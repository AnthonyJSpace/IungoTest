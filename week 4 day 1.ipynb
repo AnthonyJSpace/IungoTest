{
 "cells": [
  {
   "cell_type": "code",
   "execution_count": 12,
   "metadata": {},
   "outputs": [
    {
     "name": "stdout",
     "output_type": "stream",
     "text": [
      "yay\n"
     ]
    }
   ],
   "source": [
    "def print_times_table(number):\n",
    "    for i in range(1, 13):\n",
    "        print(f'{number}] times {i} is {number*i}')\n",
    "\n",
    "test = [\"one\",\"two\"]\n",
    "if \"two\" in test:\n",
    "    print(\"yay\")\n",
    "\n",
    "#print_times_table(5)"
   ]
  },
  {
   "cell_type": "markdown",
   "metadata": {},
   "source": [
    "<h3>Writing to text files</h3>"
   ]
  },
  {
   "cell_type": "code",
   "execution_count": 13,
   "metadata": {},
   "outputs": [],
   "source": [
    "with open(\"first_text_file.txt\",\"w+\") as outfile:\n",
    "    outfile.write(\"Hello World!\")"
   ]
  },
  {
   "cell_type": "code",
   "execution_count": null,
   "metadata": {},
   "outputs": [
    {
     "name": "stdout",
     "output_type": "stream",
     "text": [
      ": this little piggy didnt\n"
     ]
    }
   ],
   "source": [
    "with open(\"story.txt\",\"w\") as outfile:\n",
    "    outfile.write(\"This little piggy went to market\")\n",
    "\n",
    "line2 = input(\"Tell me a story:\")\n",
    "print(\": \" + line2)\n",
    "\n",
    "with open(\"story.txt\",\"a\") as outfile:\n",
    "    outfile.write(f\"\\n{line2}\")"
   ]
  },
  {
   "cell_type": "markdown",
   "metadata": {},
   "source": [
    "<h3>Reading text files</h3>"
   ]
  },
  {
   "cell_type": "code",
   "execution_count": 26,
   "metadata": {},
   "outputs": [],
   "source": [
    "def read_story(file_path):\n",
    "    with open(file_path,\"r\") as infile:\n",
    "        return infile.readlines()\n",
    "\n",
    "def write_story(file_path, file_content):\n",
    "    with open(file_path,\"w\") as outfile:\n",
    "        outfile.write(file_content)\n",
    "\n",
    "def story_time():\n",
    "    file_path = \"story.txt\"\n",
    "    file_content = read_story(file_path)\n",
    "    file_content[1] += \"!\"\n",
    "\n",
    "    new_file_content = ''\n",
    "    for line in file_content:\n",
    "        new_file_content += line\n",
    "\n",
    "    write_story(file_path, new_file_content)\n",
    "\n",
    "if __name__ == \"__main__\":\n",
    "    story_time()"
   ]
  },
  {
   "cell_type": "markdown",
   "metadata": {},
   "source": [
    "<h3>Dictionaries</h3>"
   ]
  },
  {
   "cell_type": "code",
   "execution_count": null,
   "metadata": {},
   "outputs": [
    {
     "name": "stdout",
     "output_type": "stream",
     "text": [
      "{'name': 'Level 5 Data Engineering', 'host': 'Iungo Solutions', 'tutors': {1: {'name': 'Dan'}, 2: {'name': 'Matt'}, 3: {'name': 'Arif'}, 4: {'name': 'Jose'}, 5: {'name': 'Zaisd'}}, 'location': 'Bristol', 'duration': '16 weeks'}\n"
     ]
    }
   ],
   "source": [
    "employee = {\n",
    "    \"name\" : \"Tony\",\n",
    "    \"age\" : 54,\n",
    "    \"title\" : \"Bum\",\n",
    "    \"salary\" : \"Never enough\",\n",
    "    \"department\" : \"Sofa testing\"\n",
    "}\n",
    "\n",
    "tutor_dict = {\n",
    "    1: {\"name\" : \"Dan\"},\n",
    "    2: {\"name\" : \"Matt\"},\n",
    "    3: {\"name\" : \"Arif\"},\n",
    "    4: {\"name\" : \"Jose\"},\n",
    "    5: {\"name\" : \"Zaid\"}\n",
    "}\n",
    "\n",
    "bootcamp = {\n",
    "    \"name\" : \"Level 5 Data Engineering\",\n",
    "    \"host\" : \"Iungo Solutions\",\n",
    "    #\"tutors\": [\"Matt\", \"Dan\", \"Jose\", \"Zaid\", \"Arif\"],\n",
    "    \"tutors\" : tutor_dict,\n",
    "    \"location\" : \"Bristol\",\n",
    "    \"duration\" : \"16 weeks\"\n",
    "}\n",
    "\n",
    "social_profile = {\n",
    "    \"name\" : \"Me\",\n",
    "    \"Age\" : \"Old\",\n",
    "    \"City\" : \"Bristol\",\n",
    "    \"Friends\" : [\"Tommy\", \"John\", \"Arthur\", \"Polly\", \"Ada\"]\n",
    "}\n",
    "\n",
    "social_profile[\"Friends\"].append(\"Michael\")\n",
    "social_profile[\"Friends\"].append(\"Lizzy\")\n",
    "\n",
    "print(social_profile)"
   ]
  },
  {
   "cell_type": "code",
   "execution_count": 32,
   "metadata": {},
   "outputs": [
    {
     "name": "stdout",
     "output_type": "stream",
     "text": [
      "username me\n",
      "email too\n",
      "password yay\n"
     ]
    }
   ],
   "source": [
    "# log in example\n",
    "\n",
    "_username = input(\"Enter username:\")\n",
    "_email = input(\"Enter email:\")\n",
    "_password = input(\"Enter password:\")\n",
    "\n",
    "credentials = {\n",
    "    \"username\" : _username,\n",
    "    \"email\" : _email,\n",
    "    \"password\" : _password\n",
    "}\n",
    "\n",
    "for key, value in credentials.items():\n",
    "    print(key, value)"
   ]
  },
  {
   "cell_type": "code",
   "execution_count": 3,
   "metadata": {},
   "outputs": [
    {
     "name": "stdout",
     "output_type": "stream",
     "text": [
      "{'score': 95, 'grade': 'A'}\n"
     ]
    }
   ],
   "source": [
    "student = {\n",
    "    \"score\" : 95,\n",
    "    \"grade\" : \"\"\n",
    "}\n",
    "\n",
    "if student[\"score\"] > 80:\n",
    "    student[\"grade\"] = \"A\"\n",
    "elif 65 <= student[\"score\"] < 80:\n",
    "    student[\"grade\"] = \"B\"\n",
    "elif 45 <= student[\"score\"] < 65:\n",
    "    student[\"grade\"] = \"C\"\n",
    "elif 25 <= student[\"score\"] < 45:\n",
    "    student[\"grade\"] = \"D\"\n",
    "else:\n",
    "    student[\"grade\"] = \"U\"\n",
    "\n",
    "print(student)"
   ]
  }
 ],
 "metadata": {
  "kernelspec": {
   "display_name": "CondaJupyterTest",
   "language": "python",
   "name": "python3"
  },
  "language_info": {
   "codemirror_mode": {
    "name": "ipython",
    "version": 3
   },
   "file_extension": ".py",
   "mimetype": "text/x-python",
   "name": "python",
   "nbconvert_exporter": "python",
   "pygments_lexer": "ipython3",
   "version": "3.12.7"
  }
 },
 "nbformat": 4,
 "nbformat_minor": 2
}
