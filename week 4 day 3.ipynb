{
 "cells": [
  {
   "cell_type": "code",
   "execution_count": 2,
   "metadata": {},
   "outputs": [],
   "source": [
    "# dict to make product on ecommerce store\n",
    "\n",
    "import csv\n",
    "\n",
    "product = {\n",
    "    \"name\" : \"A Book\",\n",
    "    \"price\" : 14.99,\n",
    "    \"supplier\" : \"Megadodo Logistic\",\n",
    "    \"product_id\" : 1001\n",
    "}\n",
    "\n",
    "header_names = product.keys()\n",
    "\n",
    "with open('products.csv', 'w') as csv_file:\n",
    "    csv_writer = csv.DictWriter(csv_file, header_names)\n",
    "\n",
    "    csv_writer.writeheader()\n",
    "    csv_writer.writerow(product)\n"
   ]
  }
 ],
 "metadata": {
  "kernelspec": {
   "display_name": "CondaJupyterTest",
   "language": "python",
   "name": "python3"
  },
  "language_info": {
   "codemirror_mode": {
    "name": "ipython",
    "version": 3
   },
   "file_extension": ".py",
   "mimetype": "text/x-python",
   "name": "python",
   "nbconvert_exporter": "python",
   "pygments_lexer": "ipython3",
   "version": "3.12.7"
  }
 },
 "nbformat": 4,
 "nbformat_minor": 2
}
