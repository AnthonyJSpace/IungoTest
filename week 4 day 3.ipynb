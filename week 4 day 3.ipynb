{
 "cells": [
  {
   "cell_type": "code",
   "execution_count": null,
   "metadata": {},
   "outputs": [],
   "source": [
    "# dict to make product on ecommerce store\n",
    "\n",
    "import csv\n",
    "import pandas\n",
    "\n",
    "product = {\n",
    "    \"name\" : \"A Book\",\n",
    "    \"price\" : 14.99,\n",
    "    \"supplier\" : \"Megadodo Logistic\",\n",
    "    \"product_id\" : 1001\n",
    "}\n",
    "\n",
    "product2 = {\n",
    "    \"name\" : \"Another Book\",\n",
    "    \"price\" : 16.99,\n",
    "    \"supplier\" : \"Megadodo Logistic\",\n",
    "    \"product_id\" : 1002\n",
    "}\n",
    "\n",
    "products = [product, product2]\n",
    "\n",
    "header_names = product.keys()\n",
    "\n",
    "with open('products.csv', 'w') as csv_infile:\n",
    "    csv_writer = csv.DictWriter(csv_infile, header_names)\n",
    "\n",
    "    csv_writer.writeheader()\n",
    "    csv_writer.writerows(products)\n"
   ]
  },
  {
   "cell_type": "code",
   "execution_count": 12,
   "metadata": {},
   "outputs": [],
   "source": [
    "import json\n",
    "import csv\n",
    "\n",
    "with open('employees_email.json', 'r') as json_file:\n",
    "    json_content = json.load(json_file)\n",
    "\n",
    "    with open('employees.csv', 'w') as csv_infile:\n",
    "        header_names = json_content[0].keys()\n",
    "        csv_writer = csv.DictWriter(csv_infile, header_names)\n",
    "\n",
    "        csv_writer.writeheader()\n",
    "        csv_writer.writerows(json_content)"
   ]
  },
  {
   "cell_type": "code",
   "execution_count": null,
   "metadata": {},
   "outputs": [],
   "source": [
    "# ext 1 only from one dept\n",
    "\n",
    "import json\n",
    "import csv\n",
    "\n",
    "with open('employees_email.json', 'r') as json_file:\n",
    "    json_content = json.load(json_file)\n",
    "\n",
    "    with open('employees-frontend.csv', 'w') as csv_infile:\n",
    "        header_names = json_content[0].keys()\n",
    "        csv_writer = csv.DictWriter(csv_infile, header_names)\n",
    "\n",
    "        for person in json_content:\n",
    "            if 'Front End' in person['department']:  \n",
    "                csv_writer.writeheader()\n",
    "                csv_writer.writerow(person)"
   ]
  },
  {
   "cell_type": "code",
   "execution_count": 20,
   "metadata": {},
   "outputs": [],
   "source": [
    "# ext 2 only from one dept, user defined\n",
    "\n",
    "import json\n",
    "import csv\n",
    "\n",
    "dept = input(\"Please enter the department: \").lower()\n",
    "\n",
    "with open('employees_email.json', 'r') as json_file:\n",
    "    json_content = json.load(json_file)\n",
    "\n",
    "    with open('employees-user.csv', 'w') as csv_infile:\n",
    "        header_names = json_content[0].keys()\n",
    "        csv_writer = csv.DictWriter(csv_infile, header_names)\n",
    "\n",
    "        for person in json_content:\n",
    "            if dept in person['department'].lower():  \n",
    "                csv_writer.writeheader()\n",
    "                csv_writer.writerow(person)"
   ]
  },
  {
   "cell_type": "code",
   "execution_count": null,
   "metadata": {},
   "outputs": [],
   "source": [
    "# monty hall, save scores (as yet not tested due to break)\n",
    "\n",
    "from random import randrange\n",
    "\n",
    "# make the score more amusing\n",
    "doors = ['goat', 'goat', 'goat']\n",
    "doors[randrange(3)] = 'car'\n",
    "\n",
    "show_doors = ['1', '2', '3']\n",
    "\n",
    "def doors_input():\n",
    "    print(f'[{show_doors[0]}] [{show_doors[1]}] [{show_doors[2]}]\\n')\n",
    "    return input('Pick a door 1, 2, or 3?')\n",
    "    \n",
    "def quiz():\n",
    "    print(\"Pick a door to win a car!\")\n",
    "\n",
    "    door_val = int(doors_input()) - 1\n",
    "\n",
    "    # use a list comprehension iterator to select the 2 doors the player didn't enter, leaving a list in other_doors\n",
    "    other_doors = [i for i in range(3) if i != door_val]\n",
    "    # using next() to iterate the i value, select the fisrt one that is a goat to show the player\n",
    "    show_doors[next(i for i in other_doors if doors[i] == 'goat')] = 'goat'\n",
    "            \n",
    "    print(f'[{show_doors[0]}] [{show_doors[1]}] [{show_doors[2]}]')\n",
    "    \n",
    "    print('Would you like to pick a different door?')\n",
    "    new_door = input('y or n?: ')\n",
    "\n",
    "    if new_door.lower() == 'y':\n",
    "        door_val = int(input('New Choice: ')) - 1\n",
    "            \n",
    "    show_doors[door_val] = doors[door_val]\n",
    "    print(f'[{show_doors[0]}] [{show_doors[1]}] [{show_doors[2]}]')\n",
    "\n",
    "    if doors[door_val] == 'car':\n",
    "        print('Winner!')\n",
    "        return 1\n",
    "    else:\n",
    "        print('Bad luck, thanks for playing!')\n",
    "    \n",
    "    return 0\n",
    "        \n",
    "if __name__ == \"__main__\":\n",
    "    round = 1\n",
    "    new_player = True\n",
    "    csv_data = None\n",
    "\n",
    "    player = {\n",
    "        \"name\" : input(\"Please enter your name :\"),\n",
    "        \"score\" : 0\n",
    "    }\n",
    "\n",
    "    while round < 2:\n",
    "        player[\"score\"] += quiz()\n",
    "        round +=1\n",
    "\n",
    "    with open('montyhall_score.csv', 'r+') as csv_infile:\n",
    "        csv_data = csv.DictReader(csv_infile)\n",
    "\n",
    "    for csv_player in csv_data:\n",
    "        if csv_player['name'] == player['name']:\n",
    "            csv_player['score'] = player['score']\n",
    "            new_player = False\n",
    "\n",
    "    with open('montyhall_score.csv', 'r') as csv_outfile:\n",
    "        header_names = csv_data[0].keys()\n",
    "        writer = csv.DictWriter(csv_outfile, header_names)\n",
    "        if new_player:\n",
    "            writer.writerows(csv_data)\n",
    "            writer.writerow(player)\n",
    "        else:\n",
    "            writer.writerows(csv_data)"
   ]
  },
  {
   "cell_type": "markdown",
   "metadata": {},
   "source": [
    "<h2>Webscraping</h2>"
   ]
  },
  {
   "cell_type": "markdown",
   "metadata": {},
   "source": [
    "https://webscraper.io/test-sites/e-commerce/allinone is our test site"
   ]
  },
  {
   "cell_type": "code",
   "execution_count": 1,
   "metadata": {},
   "outputs": [],
   "source": [
    "import requests\n",
    "from bs4 import BeautifulSoup"
   ]
  },
  {
   "cell_type": "code",
   "execution_count": null,
   "metadata": {},
   "outputs": [],
   "source": []
  },
  {
   "cell_type": "code",
   "execution_count": null,
   "metadata": {},
   "outputs": [],
   "source": [
    "\n",
    "url = \"https://webscraper.io/test-sites/e-commerce/allinone\"\n",
    "response = requests.get(url)\n",
    "\n",
    "soup = BeautifulSoup(response.text, \"html\")\n"
   ]
  },
  {
   "cell_type": "code",
   "execution_count": 38,
   "metadata": {},
   "outputs": [
    {
     "name": "stdout",
     "output_type": "stream",
     "text": [
      "Test Sites\n"
     ]
    }
   ],
   "source": [
    "print(soup.find(\"h1\").text)"
   ]
  },
  {
   "cell_type": "code",
   "execution_count": 35,
   "metadata": {},
   "outputs": [
    {
     "name": "stdout",
     "output_type": "stream",
     "text": [
      "['\\n', <div class=\"navbar-header\">\n",
      "<a data-bs-target=\".side-collapse\" data-bs-target-2=\".side-collapse-container\" data-bs-toggle=\"collapse-side\">\n",
      "<button aria-controls=\"navbar\" aria-expanded=\"false\" class=\"navbar-toggler float-end collapsed\" data-bs-target=\"#navbar\" data-bs-target-2=\".side-collapse-container\" data-bs-target-3=\".side-collapse\" data-bs-toggle=\"collapse\" type=\"button\">\n",
      "<span class=\"visually-hidden\">Toggle navigation</span>\n",
      "<span class=\"icon-bar top-bar\"></span>\n",
      "<span class=\"icon-bar middle-bar\"></span>\n",
      "<span class=\"icon-bar bottom-bar\"></span>\n",
      "<span class=\"icon-bar extra-bottom-bar\"></span>\n",
      "</button>\n",
      "</a>\n",
      "<div class=\"navbar-brand\">\n",
      "<a href=\"/\"><img alt=\"Web Scraper\" src=\"/img/logo_white.svg\"/></a>\n",
      "</div>\n",
      "</div>, '\\n', <div class=\"side-collapse in\">\n",
      "<nav class=\"navbar-collapse collapse\" id=\"navbar\" role=\"navigation\">\n",
      "<ul class=\"nav navbar-nav navbar-right\">\n",
      "<li class=\"nav-item\">\n",
      "<a class=\"nav-link menuitm\" href=\"/\">\n",
      "<p>Web Scraper</p>\n",
      "<div class=\"crta\"></div>\n",
      "</a>\n",
      "</li>\n",
      "<li class=\"nav-item\">\n",
      "<a class=\"nav-link menuitm\" href=\"/cloud-scraper\" id=\"cloud-nav-link\">\n",
      "<p>Cloud Scraper</p>\n",
      "<div class=\"crta\"></div>\n",
      "</a>\n",
      "</li>\n",
      "<li class=\"nav-item\">\n",
      "<a class=\"nav-link menuitm\" href=\"/pricing\" id=\"pricing-nav-link\">\n",
      "<p>Pricing</p>\n",
      "<div class=\"crta\"></div>\n",
      "</a>\n",
      "</li>\n",
      "<li class=\"nav-item dropdown\">\n",
      "<button aria-expanded=\"false\" aria-haspopup=\"true\" class=\"menuitm nav-link dropdown-toggle\" data-bs-toggle=\"dropdown\" id=\"dropdownMenuLink\" role=\"button\">\n",
      "<p>Learn</p>\n",
      "<span class=\"crta\"></span>\n",
      "</button>\n",
      "<ul aria-labelledby=\"dropdownMenuLink\" class=\"dropdown-menu\">\n",
      "<li>\n",
      "<a class=\"dropdown-item\" href=\"/documentation\">Documentation</a>\n",
      "</li>\n",
      "<li>\n",
      "<a class=\"dropdown-item\" href=\"/tutorials\">Video Tutorials</a>\n",
      "</li>\n",
      "<li>\n",
      "<a class=\"dropdown-item\" href=\"/how-to-videos\">How to</a>\n",
      "</li>\n",
      "<li>\n",
      "<a class=\"dropdown-item\" href=\"/test-sites\">Test Sites</a>\n",
      "</li>\n",
      "<li>\n",
      "<a class=\"dropdown-item\" href=\"https://forum.webscraper.io/\" rel=\"noopener\" target=\"_blank\">Forum</a>\n",
      "</li>\n",
      "</ul>\n",
      "</li>\n",
      "<li class=\"nav-item\">\n",
      "<a class=\"nav-link btn-menu1 install-extension\" href=\"https://chromewebstore.google.com/detail/web-scraper-free-web-scra/jnhgnonknehpejjnehehllkliplmbmhn?hl=en\" target=\"_blank\">Install</a>\n",
      "</li>\n",
      "<li class=\"nav-item\">\n",
      "<a class=\"nav-link btn-menu2\" href=\"https://cloud.webscraper.io/\">Cloud Login</a>\n",
      "</li>\n",
      "</ul>\n",
      "</nav>\n",
      "</div>, '\\n']\n"
     ]
    }
   ],
   "source": [
    "tag = soup.div\n",
    "type(tag)\n",
    "print(tag.contents)"
   ]
  },
  {
   "cell_type": "code",
   "execution_count": 37,
   "metadata": {},
   "outputs": [
    {
     "name": "stdout",
     "output_type": "stream",
     "text": [
      "<p class=\"description card-text\">Lenovo V110-15ISK, 15.6\" HD, Core i3-6006U, 4GB, 128GB SSD, Windows 10 Pro</p>\n"
     ]
    }
   ],
   "source": [
    "print(soup.find(\"p\", {\"class\" : \"description card-text\"}))"
   ]
  },
  {
   "cell_type": "code",
   "execution_count": 54,
   "metadata": {},
   "outputs": [
    {
     "name": "stdout",
     "output_type": "stream",
     "text": [
      "<a class=\"title\" href=\"/test-sites/e-commerce/allinone/product/82\" title=\"Lenovo V110-15ISK\">Lenovo V110-15...</a>\n",
      "{'title': 'Lenovo V110-15ISK', 'description': 'Lenovo V110-15ISK, 15.6\" HD, Core i3-6006U, 4GB, 128GB SSD, Windows 10 Pro', 'price': '$454.73'}\n"
     ]
    }
   ],
   "source": [
    "price = soup.find(\"a\", {\"class\" : \"title\"})\n",
    "\n",
    "item = {\n",
    "    \"title\" : price[\"title\"],\n",
    "    \"description\" : soup.find(\"p\", {\"class\" : \"description card-text\"}).text,\n",
    "    \"price\" : soup.find(\"h4\", {\"class\" : \"price float-end card-title pull-right\"}).text\n",
    "}\n",
    "\n",
    "print(item)"
   ]
  },
  {
   "cell_type": "code",
   "execution_count": 66,
   "metadata": {},
   "outputs": [
    {
     "name": "stdout",
     "output_type": "stream",
     "text": [
      "[<a class=\"title\" href=\"/test-sites/e-commerce/allinone/product/82\" title=\"Lenovo V110-15ISK\">Lenovo V110-15...</a>, <a class=\"title\" href=\"/test-sites/e-commerce/allinone/product/31\" title=\"Packard 255 G2\">Packard 255 G2</a>, <a class=\"title\" href=\"/test-sites/e-commerce/allinone/product/51\" title=\"Asus ROG STRIX GL553VD-DM256\">Asus ROG STRIX...</a>]\n",
      "{'title': 'Lenovo V110-15...', 'description': 'Lenovo V110-15ISK, 15.6\" HD, Core i3-6006U, 4GB, 128GB SSD, Windows 10 Pro', 'price': '$454.73'}\n",
      "{'title': 'Packard 255 G2', 'description': '15.6\", AMD E2-3800 1.3GHz, 4GB, 500GB, Windows 8.1', 'price': '$416.99'}\n",
      "{'title': 'Asus ROG STRIX...', 'description': 'Asus ROG STRIX GL553VD-DM256, 15.6\" FHD, Core i5-7300HQ, 8GB, 1TB, GeForce GTX 1050 2GB, No OS', 'price': '$799'}\n"
     ]
    }
   ],
   "source": [
    "titles = soup.findAll(\"a\", {\"class\" : \"title\"})\n",
    "descs = soup.findAll(\"p\", {\"class\" : \"description card-text\"})\n",
    "prices = soup.findAll(\"h4\", {\"class\" : \"price float-end card-title pull-right\"})\n",
    "\n",
    "print(titles)\n",
    "\n",
    "items = []\n",
    "\n",
    "for i, element in enumerate(titles):\n",
    "    item = {}\n",
    "    item['title'] = element.text\n",
    "    item[\"description\"] = descs[i].text\n",
    "    item['price'] = prices[i].text\n",
    "    items.append(item)\n",
    "\n",
    "for b in items:\n",
    "    print(b)"
   ]
  }
 ],
 "metadata": {
  "kernelspec": {
   "display_name": "CondaJupyterTest",
   "language": "python",
   "name": "python3"
  },
  "language_info": {
   "codemirror_mode": {
    "name": "ipython",
    "version": 3
   },
   "file_extension": ".py",
   "mimetype": "text/x-python",
   "name": "python",
   "nbconvert_exporter": "python",
   "pygments_lexer": "ipython3",
   "version": "3.12.7"
  }
 },
 "nbformat": 4,
 "nbformat_minor": 2
}
