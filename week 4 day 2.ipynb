{
 "cells": [
  {
   "cell_type": "code",
   "execution_count": 4,
   "metadata": {},
   "outputs": [
    {
     "name": "stdout",
     "output_type": "stream",
     "text": [
      "Invalid operation\n"
     ]
    }
   ],
   "source": [
    "# calc, detect operation and perform\n",
    "\n",
    "def get_input():\n",
    "    return input('type a sum (+ - * /) eg 2 * 2 :')\n",
    "\n",
    "def parse(type, sum):\n",
    "    split_sum = sum.split()     #sum.sum.index(type)\n",
    "    left = split_sum[0]\n",
    "    operator = split_sum[1]\n",
    "    right = split_sum[2]\n",
    "\n",
    "    l = float(left) \n",
    "    r = float(right)\n",
    "    match type:\n",
    "        case '+':\n",
    "            result = l + r\n",
    "        case '-':\n",
    "            result = l - r\n",
    "        case '*':\n",
    "            result = l * r\n",
    "        case '/':\n",
    "            result = l / r\n",
    "        case _:\n",
    "            result = 'Error'\n",
    "    return result\n",
    "\n",
    "def calculate():\n",
    "    sum = get_input()\n",
    "    if '+' in sum:\n",
    "        type = '+'\n",
    "    elif '-' in sum:\n",
    "        type = '-'\n",
    "    elif '*' in sum:\n",
    "        type = '*'\n",
    "    elif '/' in sum:\n",
    "        type = '/'\n",
    "    else:\n",
    "        return 'Invalid operation'\n",
    "\n",
    "    return parse(type, sum)\n",
    "\n",
    "print(calculate())"
   ]
  },
  {
   "cell_type": "code",
   "execution_count": null,
   "metadata": {},
   "outputs": [],
   "source": [
    "# represent a recipie in a dict\n",
    "\n",
    "cookies_recipie = {\n",
    "    flour : 1.5,\n",
    "    water : '2 cups',\n",
    "    suger : '0.5 cups'\n",
    "}\n"
   ]
  },
  {
   "cell_type": "code",
   "execution_count": null,
   "metadata": {},
   "outputs": [],
   "source": [
    "# write to json\n",
    "\n",
    "bacon_sandwich = {\n",
    "    ingredients : ['Bread', 'Bacon'],\n",
    "    serves : 1,\n",
    "    cooking_time : '10 minutes'\n",
    "}\n",
    "\n",
    "import json\n",
    "\n",
    "with open('recipie.json', 'w') as outfile:\n",
    "    json.dump(bacon_sandwich, outfile, indent=4)"
   ]
  },
  {
   "cell_type": "code",
   "execution_count": 13,
   "metadata": {},
   "outputs": [
    {
     "name": "stdout",
     "output_type": "stream",
     "text": [
      "Pick a door to win a car!\n",
      "[X] [X] [X]\n",
      "\n",
      "[goat] [X] [X]\n",
      "Would you like to pick a different door?\n",
      "[goat] [goat] [X]\n",
      "Bad luck, thanks for playing!\n"
     ]
    }
   ],
   "source": [
    "# monty hall problem\n",
    "doors = ['goat', 'goat', 'car']\n",
    "show_doors = ['X', 'X', 'X']\n",
    "\n",
    "def doors_input():\n",
    "    print(f'[{show_doors[0]}] [{show_doors[1]}] [{show_doors[2]}]')\n",
    "    print()\n",
    "    return input('Pick a door 1, 2, or 3?')\n",
    "    \n",
    "\n",
    "def quiz():\n",
    "    print(\"Pick a door to win a car!\")\n",
    "    doors_opened = 0\n",
    "\n",
    "    door_val = int(doors_input()) - 1\n",
    "\n",
    "    if door_val == 0:\n",
    "        if doors[1] == 'goat':\n",
    "            show_doors[1]='goat'\n",
    "        elif doors[2] == 'goat':\n",
    "            show_doors[2]='goat'\n",
    "    elif door_val == 1:\n",
    "        if doors[0] == 'goat':\n",
    "            show_doors[0]='goat'\n",
    "        elif doors[2] == 'goat':\n",
    "            show_doors[2]='goat'\n",
    "    else:\n",
    "        if doors[0] == 'goat':\n",
    "            show_doors[0]='goat'\n",
    "        elif doors[1] == 'goat':\n",
    "            show_doors[1]='goat'\n",
    "            \n",
    "    print(f'[{show_doors[0]}] [{show_doors[1]}] [{show_doors[2]}]')\n",
    "    \n",
    "    print('Would you like to pick a different door?')\n",
    "    new_door = input('y or n?: ')\n",
    "\n",
    "    if new_door == 'y' or new_door == 'Y':\n",
    "        door_val = int(input('New Choice: ')) - 1\n",
    "            \n",
    "    show_doors[door_val] = doors[door_val]\n",
    "    print(f'[{show_doors[0]}] [{show_doors[1]}] [{show_doors[2]}]')\n",
    "\n",
    "    if doors[door_val] == 'car':\n",
    "        print('Winner!')\n",
    "    else:\n",
    "        print('Bad luck, thanks for playing!')\n",
    "        \n",
    "quiz()\n",
    "        \n",
    "\n",
    "\n"
   ]
  },
  {
   "cell_type": "markdown",
   "metadata": {},
   "source": [
    "<h3>Employees JSON,<h3>"
   ]
  },
  {
   "cell_type": "code",
   "execution_count": 18,
   "metadata": {},
   "outputs": [
    {
     "name": "stdout",
     "output_type": "stream",
     "text": [
      "Harris 612\n",
      "Long 843\n",
      "David 725\n",
      "Arnold 828\n",
      "Hubbard 509\n",
      "Hernandez 243\n"
     ]
    }
   ],
   "source": [
    "import json\n",
    "\n",
    "with open('employees.json',\"r\") as infile:\n",
    "    emp = json.load(infile)\n",
    "\n",
    "    for person in emp:\n",
    "        if(200 < person['employee_id'] < 1000):\n",
    "            print(f'{person['last_name']} {person['employee_id']}')\n",
    "\n"
   ]
  },
  {
   "cell_type": "code",
   "execution_count": 35,
   "metadata": {},
   "outputs": [],
   "source": [
    "import json\n",
    "\n",
    "with open('employees.json',\"r\") as infile:\n",
    "    emp = json.load(infile)\n",
    "\n",
    "for person in emp:\n",
    "    person['email'] = f\"{person['first_name'].lower()}.{person['last_name'].lower()}@datapocalypse.com\"\n",
    "\n",
    "with open('employees_email.json',\"w\") as outfile:\n",
    "    json_str = json.dump(emp, outfile, indent=4)\n",
    "        "
   ]
  },
  {
   "cell_type": "code",
   "execution_count": 36,
   "metadata": {},
   "outputs": [],
   "source": [
    "\n",
    "# tom's code, error for him, works here\n",
    "import json\n",
    "\n",
    "with open(\"employees.json\", \"r\") as infile:\n",
    "    employee_data = json.load(infile)\n",
    "\n",
    "for employee in employee_data:\n",
    "    employee[\"email\"] = f\"{employee[\"first_name\"].lower()}.{employee[\"last_name\"]}@datapocalypse.com\"\n",
    "\n",
    "with open(\"employees_with_emails.json\", \"w\") as outfile:\n",
    "    json.dump(employee_data, outfile, indent=4)"
   ]
  },
  {
   "cell_type": "code",
   "execution_count": null,
   "metadata": {},
   "outputs": [],
   "source": [
    "import json\n",
    "\n",
    "with open('employees_email.json',\"r\") as infile:\n",
    "    emp = json.load(infile)\n",
    "\n",
    "marketing = []\n",
    "\n",
    "for person in emp:\n",
    "    if person['department'] == 'Marketing':\n",
    "        person['salary'] += int(person['salary'] * 0.1)\n",
    "        marketing.append(person)\n",
    "\n",
    "with open(\"employees_payrise.json\", \"w\") as outfile:\n",
    "    json.dump(marketing, outfile, indent=4)"
   ]
  },
  {
   "cell_type": "code",
   "execution_count": 45,
   "metadata": {},
   "outputs": [],
   "source": [
    "import json\n",
    "\n",
    "with open('exam_results.json',\"r\") as infile:\n",
    "    students = json.load(infile)\n",
    "\n",
    "for student in students:\n",
    "    if student[\"score\"] > 80:\n",
    "        student[\"grade\"] = \"A\"\n",
    "    elif 65 <= student[\"score\"] < 80:\n",
    "        student[\"grade\"] = \"B\"\n",
    "    elif 45 <= student[\"score\"] < 65:\n",
    "        student[\"grade\"] = \"C\"\n",
    "    elif 25 <= student[\"score\"] < 45:\n",
    "        student[\"grade\"] = \"D\"\n",
    "    else:\n",
    "        student[\"grade\"] = \"U\"\n",
    "    \n",
    "with open(\"exam_results_graded.json\", \"w\") as outfile:\n",
    "    json.dump(students, outfile, indent=4)"
   ]
  },
  {
   "cell_type": "code",
   "execution_count": 50,
   "metadata": {},
   "outputs": [
    {
     "name": "stdout",
     "output_type": "stream",
     "text": [
      "Pick a door to win a car!\n",
      "[1] [2] [3]\n",
      "\n",
      "[1] [goat] [3]\n",
      "Would you like to pick a different door?\n",
      "[1] [goat] [3]\n",
      "Bad luck, thanks for playing!\n"
     ]
    }
   ],
   "source": [
    "# monty hall, more idiomatic\n",
    "\n",
    "doors = ['goat', 'goat', 'car']\n",
    "show_doors = ['1', '2', '3']\n",
    "\n",
    "def doors_input():\n",
    "    print(f'[{show_doors[0]}] [{show_doors[1]}] [{show_doors[2]}]\\n')\n",
    "    return input('Pick a door 1, 2, or 3?')\n",
    "    \n",
    "def quiz():\n",
    "    print(\"Pick a door to win a car!\")\n",
    "\n",
    "    door_val = int(doors_input()) - 1\n",
    "\n",
    "    # use a list comprehension iterator to select the 2 doors the player didn't enter, leaving a list in other_doors\n",
    "    other_doors = [i for i in range(3) if i != door_val]\n",
    "    # using next() to iterate the i value, select the fisrt one that is a goat to show the player\n",
    "    show_doors[next(i for i in other_doors if doors[i] == 'goat')] = 'goat'\n",
    "            \n",
    "    print(f'[{show_doors[0]}] [{show_doors[1]}] [{show_doors[2]}]')\n",
    "    \n",
    "    print('Would you like to pick a different door?')\n",
    "    new_door = input('y or n?: ')\n",
    "\n",
    "    if new_door.lower() == 'y':\n",
    "        door_val = int(input('New Choice: ')) - 1\n",
    "            \n",
    "    show_doors[door_val] = doors[door_val]\n",
    "    print(f'[{show_doors[0]}] [{show_doors[1]}] [{show_doors[2]}]')\n",
    "\n",
    "    if doors[door_val] == 'car':\n",
    "        print('Winner!')\n",
    "    else:\n",
    "        print('Bad luck, thanks for playing!')\n",
    "        \n",
    "quiz()"
   ]
  },
  {
   "cell_type": "code",
   "execution_count": null,
   "metadata": {},
   "outputs": [],
   "source": [
    "# monty hall, save scores - moved to day 3\n",
    "\n",
    "doors = ['goat', 'goat', 'car']\n",
    "show_doors = ['1', '2', '3']\n",
    "\n",
    "def doors_input():\n",
    "    print(f'[{show_doors[0]}] [{show_doors[1]}] [{show_doors[2]}]\\n')\n",
    "    return input('Pick a door 1, 2, or 3?')\n",
    "    \n",
    "def quiz():\n",
    "    print(\"Pick a door to win a car!\")\n",
    "\n",
    "    door_val = int(doors_input()) - 1\n",
    "\n",
    "    # use a list comprehension iterator to select the 2 doors the player didn't enter, leaving a list in other_doors\n",
    "    other_doors = [i for i in range(3) if i != door_val]\n",
    "    # using next() to iterate the i value, select the fisrt one that is a goat to show the player\n",
    "    show_doors[next(i for i in other_doors if doors[i] == 'goat')] = 'goat'\n",
    "            \n",
    "    print(f'[{show_doors[0]}] [{show_doors[1]}] [{show_doors[2]}]')\n",
    "    \n",
    "    print('Would you like to pick a different door?')\n",
    "    new_door = input('y or n?: ')\n",
    "\n",
    "    if new_door.lower() == 'y':\n",
    "        door_val = int(input('New Choice: ')) - 1\n",
    "            \n",
    "    show_doors[door_val] = doors[door_val]\n",
    "    print(f'[{show_doors[0]}] [{show_doors[1]}] [{show_doors[2]}]')\n",
    "\n",
    "    if doors[door_val] == 'car':\n",
    "        print('Winner!')\n",
    "    else:\n",
    "        print('Bad luck, thanks for playing!')\n",
    "        \n",
    "quiz()"
   ]
  }
 ],
 "metadata": {
  "kernelspec": {
   "display_name": "CondaJupyterTest",
   "language": "python",
   "name": "python3"
  },
  "language_info": {
   "codemirror_mode": {
    "name": "ipython",
    "version": 3
   },
   "file_extension": ".py",
   "mimetype": "text/x-python",
   "name": "python",
   "nbconvert_exporter": "python",
   "pygments_lexer": "ipython3",
   "version": "3.12.7"
  }
 },
 "nbformat": 4,
 "nbformat_minor": 2
}
