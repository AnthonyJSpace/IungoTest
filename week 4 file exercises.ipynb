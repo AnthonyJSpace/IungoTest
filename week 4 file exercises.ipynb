{
 "cells": [
  {
   "cell_type": "markdown",
   "metadata": {},
   "source": [
    "<h2>Text Files Exercises</h2>"
   ]
  },
  {
   "cell_type": "markdown",
   "metadata": {},
   "source": [
    "Exercise 1"
   ]
  },
  {
   "cell_type": "code",
   "execution_count": 4,
   "metadata": {},
   "outputs": [],
   "source": [
    "with open(\"new_file_text.txt\",\"w\") as outfile:\n",
    "    outfile.write(\"Hello World!\\n\")\n",
    "    outfile.write(\"This is a text file\\n\")"
   ]
  },
  {
   "cell_type": "markdown",
   "metadata": {},
   "source": [
    "Exercise 2"
   ]
  },
  {
   "cell_type": "code",
   "execution_count": 8,
   "metadata": {},
   "outputs": [
    {
     "name": "stdout",
     "output_type": "stream",
     "text": [
      "Hello World!\n",
      "\n",
      "This is a text file\n",
      "\n",
      "This line was appended by python\n",
      "\n"
     ]
    }
   ],
   "source": [
    "with open(\"new_file_text.txt\",\"r\") as infile:\n",
    "    for line in infile.readlines():\n",
    "        print(line)"
   ]
  },
  {
   "cell_type": "markdown",
   "metadata": {},
   "source": [
    "Exerise 3"
   ]
  },
  {
   "cell_type": "code",
   "execution_count": 5,
   "metadata": {},
   "outputs": [],
   "source": [
    "with open(\"new_file_text.txt\",\"a\") as outfile:\n",
    "    outfile.write(\"This line was appended by python\\n\")"
   ]
  },
  {
   "cell_type": "markdown",
   "metadata": {},
   "source": [
    "Exercise 4"
   ]
  },
  {
   "cell_type": "code",
   "execution_count": 9,
   "metadata": {},
   "outputs": [
    {
     "name": "stdout",
     "output_type": "stream",
     "text": [
      "3\n"
     ]
    }
   ],
   "source": [
    "with open(\"new_file_text.txt\",\"r\") as infile:\n",
    "    count = 0\n",
    "    for line in infile.readlines():\n",
    "        count += 1\n",
    "    \n",
    "    print(count)"
   ]
  },
  {
   "cell_type": "markdown",
   "metadata": {},
   "source": [
    "Exercise 5"
   ]
  },
  {
   "cell_type": "code",
   "execution_count": 20,
   "metadata": {},
   "outputs": [],
   "source": [
    "import json\n",
    "\n",
    "car = {\n",
    "    \"manufacturer\" : \"Ford\",\n",
    "    \"model\" : \"Prefect\",\n",
    "    \"top_speed\" : 61,\n",
    "    \"age\" : 64\n",
    "}\n",
    "\n",
    "cars = []\n",
    "cars.append(car)\n",
    "\n",
    "with open(\"cars.json\",\"w\") as outfile:\n",
    "    json.dump(cars, outfile, indent=4)"
   ]
  },
  {
   "cell_type": "markdown",
   "metadata": {},
   "source": [
    "Exercise 6"
   ]
  },
  {
   "cell_type": "code",
   "execution_count": 23,
   "metadata": {},
   "outputs": [
    {
     "name": "stdout",
     "output_type": "stream",
     "text": [
      "Prefect, 61\n"
     ]
    }
   ],
   "source": [
    "import json\n",
    "\n",
    "with open(\"cars.json\",\"r\") as infile:\n",
    "    cars = json.load(infile)\n",
    "\n",
    "    for car in cars:\n",
    "        print(f\"{car['model']}, {car['top_speed']}\")"
   ]
  },
  {
   "cell_type": "markdown",
   "metadata": {},
   "source": [
    "Exercise 7"
   ]
  },
  {
   "cell_type": "code",
   "execution_count": 24,
   "metadata": {},
   "outputs": [],
   "source": [
    "import json\n",
    "\n",
    "car = {\n",
    "    \"manufacturer\" : \"Ford\",\n",
    "    \"model\" : \"Prefect\",\n",
    "    \"top_speed\" : 61,\n",
    "    \"age\" : 64\n",
    "}\n",
    "\n",
    "cars = []\n",
    "cars.append(car)\n",
    "\n",
    "car = {\n",
    "    \"manufacturer\" : \"Bugatti\",\n",
    "    \"model\" : \"EB 110 GT\",\n",
    "    \"top_speed\" : 221,\n",
    "    \"age\" : 30\n",
    "}\n",
    "\n",
    "cars.append(car)\n",
    "\n",
    "with open(\"cars.json\",\"w\") as outfile:\n",
    "    json.dump(cars, outfile, indent=4)"
   ]
  },
  {
   "cell_type": "markdown",
   "metadata": {},
   "source": [
    "Exercise 8"
   ]
  },
  {
   "cell_type": "code",
   "execution_count": 25,
   "metadata": {},
   "outputs": [],
   "source": [
    "import json\n",
    "\n",
    "cars = []\n",
    "fast_cars = []\n",
    "\n",
    "with open(\"cars.json\",\"r\") as infile:\n",
    "    cars = json.load(infile)\n",
    "\n",
    "    for car in cars:\n",
    "        if car['top_speed'] > 200:\n",
    "            fast_cars.append(car)\n",
    "        \n",
    "with open(\"fast_cars.json\",\"w\") as outfile:\n",
    "    json.dump(fast_cars, outfile, indent=4)\n"
   ]
  },
  {
   "cell_type": "markdown",
   "metadata": {},
   "source": [
    "Optional - Exercise 9"
   ]
  },
  {
   "cell_type": "code",
   "execution_count": null,
   "metadata": {},
   "outputs": [],
   "source": [
    "# read text or json and wrote txt or json on users choice\n",
    "# text file in format 'key value'\n",
    "# input checking not included\n",
    "\n",
    "import os\n",
    "\n",
    "mydict = {\n",
    "    \"name\" : \"paul\"\n",
    "}\n",
    "\n",
    "def load_textfile(file_path):\n",
    "    with open(file_path,\"r\") as infile:\n",
    "        content = infile.readlines()\n",
    "\n",
    "def load_jsonfile(file_path):\n",
    "    with open(file_path,\"r\") as infile:\n",
    "        content = json.load(file_path)\n",
    "\n",
    "def process_file():\n",
    "    file_path = input(\"Enter a filename: \")\n",
    "    file_name, file_extension = os.path.split(file_path)\n",
    "    file_content = []\n",
    "\n",
    "    if file_extension == '.txt':\n",
    "        file_content = load_textfile(file_path)\n",
    "    elif file_extension == '.json':\n",
    "        file_content = load_jsonfile(file_path)\n",
    "    else:\n",
    "        print(\"Invalid file extension\")\n",
    "        return\n",
    "    \n",
    "\n"
   ]
  }
 ],
 "metadata": {
  "kernelspec": {
   "display_name": "CondaJupyterTest",
   "language": "python",
   "name": "python3"
  },
  "language_info": {
   "codemirror_mode": {
    "name": "ipython",
    "version": 3
   },
   "file_extension": ".py",
   "mimetype": "text/x-python",
   "name": "python",
   "nbconvert_exporter": "python",
   "pygments_lexer": "ipython3",
   "version": "3.12.7"
  }
 },
 "nbformat": 4,
 "nbformat_minor": 2
}
